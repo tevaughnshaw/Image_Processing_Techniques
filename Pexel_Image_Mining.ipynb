{
 "cells": [
  {
   "cell_type": "markdown",
   "id": "c49682a1-7058-45b3-939b-808520765acf",
   "metadata": {},
   "source": [
    "# Mining Pexels \n",
    "\n",
    "Pexels is a royalty-free website for images and videos. I will use their API to download cat images and store them in a folder for preprocessing later.\n",
    "\n",
    "[Pexels link](https://www.pexels.com)"
   ]
  },
  {
   "cell_type": "code",
   "execution_count": 13,
   "id": "13293a9f-89bb-403f-8d7a-2e43681fca2d",
   "metadata": {},
   "outputs": [],
   "source": [
    "import requests\n",
    "import os\n",
    "import pexels_key"
   ]
  },
  {
   "cell_type": "code",
   "execution_count": 14,
   "id": "b9452041-4f18-4fc4-9fbe-c2045e3ca7f0",
   "metadata": {},
   "outputs": [],
   "source": [
    "query = 'cats'\n",
    "num_photos = 80"
   ]
  },
  {
   "cell_type": "code",
   "execution_count": 57,
   "id": "af04a22c-94f0-4844-985d-d7d3dcb19a83",
   "metadata": {},
   "outputs": [],
   "source": [
    "url = f'https://api.pexels.com/v1/search?query={query}&page=9&per_page={num_photos}'"
   ]
  },
  {
   "cell_type": "code",
   "execution_count": 16,
   "id": "3c1d0082-10d6-4276-8110-c389d1f96f43",
   "metadata": {},
   "outputs": [],
   "source": [
    "headers = {'Authorization': pexels_key.KEY}"
   ]
  },
  {
   "cell_type": "code",
   "execution_count": 58,
   "id": "81244fc9-0eee-4492-b911-4832c659d515",
   "metadata": {},
   "outputs": [],
   "source": [
    "response = requests.get(url, headers=headers)"
   ]
  },
  {
   "cell_type": "code",
   "execution_count": 59,
   "id": "e7754c83-dc7a-4b00-8c9f-d237bd0a8860",
   "metadata": {},
   "outputs": [
    {
     "name": "stdout",
     "output_type": "stream",
     "text": [
      "<Response [200]>\n"
     ]
    }
   ],
   "source": [
    "print(response) #200=success 400=fail"
   ]
  },
  {
   "cell_type": "code",
   "execution_count": 60,
   "id": "8ab2e606-a083-4ab8-b223-a4270f952e16",
   "metadata": {},
   "outputs": [],
   "source": [
    "json_data = response.json()"
   ]
  },
  {
   "cell_type": "code",
   "execution_count": 61,
   "id": "b5a8fc41-b02c-4c13-9d71-b004cb4df965",
   "metadata": {},
   "outputs": [],
   "source": [
    "# download and save cat pics to test-imgs folder\n",
    "for image in json_data['photos']:\n",
    "    img_url = image['src']['original']\n",
    "    img_data = requests.get(img_url).content\n",
    "    img_name = f\"test-imgs/{image['id']}.jpg\"\n",
    "    with open(img_name, 'wb') as f:\n",
    "        f.write(img_data)"
   ]
  }
 ],
 "metadata": {
  "kernelspec": {
   "display_name": "Python 3 (ipykernel)",
   "language": "python",
   "name": "python3"
  },
  "language_info": {
   "codemirror_mode": {
    "name": "ipython",
    "version": 3
   },
   "file_extension": ".py",
   "mimetype": "text/x-python",
   "name": "python",
   "nbconvert_exporter": "python",
   "pygments_lexer": "ipython3",
   "version": "3.11.1"
  }
 },
 "nbformat": 4,
 "nbformat_minor": 5
}
