{
 "cells": [
  {
   "cell_type": "markdown",
   "id": "971cfd91-2e31-43ef-b8cf-1c549b7687ec",
   "metadata": {},
   "source": [
    "# Resize Images Using OpenCV\n",
    "\n",
    "This notebook will focus on reading in colored cat images scrapped from Pexels API and resizing them down to 256x256 dimension."
   ]
  },
  {
   "cell_type": "code",
   "execution_count": 1,
   "id": "de16e18e-8288-4495-8c45-54485f3bfebe",
   "metadata": {},
   "outputs": [],
   "source": [
    "import os\n",
    "import cv2"
   ]
  },
  {
   "cell_type": "code",
   "execution_count": 2,
   "id": "5d489bdc-c7f9-4aca-9736-ddccf499c668",
   "metadata": {},
   "outputs": [],
   "source": [
    "# create outfolder name to store resized images\n",
    "output_folder = 'cats-resized256'\n",
    "if not os.path.exists(output_folder):\n",
    "    os.makedirs(output_folder)"
   ]
  },
  {
   "cell_type": "code",
   "execution_count": 3,
   "id": "59214fa2-8309-4426-a0af-5ecd2c148023",
   "metadata": {},
   "outputs": [
    {
     "name": "stdout",
     "output_type": "stream",
     "text": [
      "All images were loaded in and resized down to 256x256 successfully.\n"
     ]
    }
   ],
   "source": [
    "# Pulling in images saved to folder\n",
    "input_folder = 'test-imgs'\n",
    "\n",
    "for filename in os.listdir(input_folder):\n",
    "    # Checking for image, loading in, resize and save\n",
    "    \n",
    "    if filename.endswith(('.jpg', '.jpeg', '.png')):\n",
    "        image_path = os.path.join(input_folder, filename)\n",
    "        img = cv2.imread(image_path)\n",
    "        \n",
    "        # Resize image down to 256 x 256, this will help for u-net architecture\n",
    "        resized_img = cv2.resize(img,(256,256),interpolation=cv2.INTER_AREA)\n",
    "        # interpolation=cv2.INTER_CUBIC\n",
    "        # interpolation=cv2.INTER_LANCZOS4\n",
    "        # save to output folder\n",
    "        output_path = os.path.join(output_folder, filename)\n",
    "        cv2.imwrite(output_path, resized_img)\n",
    "\n",
    "print('All images were loaded in and resized down to 256x256 successfully.')"
   ]
  },
  {
   "cell_type": "markdown",
   "id": "752aff93-98c7-4676-894f-d8a1049ffbee",
   "metadata": {},
   "source": [
    "Used `interpolation=cv2.INTER_AREA` when resizing since I am shrinking images, this will help preserve their details and avoid distortion as recommended from [Stackoverflow](https://stackoverflow.com/questions/23853632/which-kind-of-interpolation-best-for-resizing-image). Resizing the images down to 256x256 will allow for easier use on the U-net architecture as I will be using the default architecture from the [original paper](https://arxiv.org/pdf/1505.04597.pdf)."
   ]
  }
 ],
 "metadata": {
  "kernelspec": {
   "display_name": "Python 3 (ipykernel)",
   "language": "python",
   "name": "python3"
  },
  "language_info": {
   "codemirror_mode": {
    "name": "ipython",
    "version": 3
   },
   "file_extension": ".py",
   "mimetype": "text/x-python",
   "name": "python",
   "nbconvert_exporter": "python",
   "pygments_lexer": "ipython3",
   "version": "3.11.1"
  }
 },
 "nbformat": 4,
 "nbformat_minor": 5
}
